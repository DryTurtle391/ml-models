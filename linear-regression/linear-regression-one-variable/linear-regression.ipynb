{
 "cells": [
  {
   "cell_type": "markdown",
   "metadata": {},
   "source": [
    "<b>Linear Regression (one-variable):</b>\n",
    "\n",
    "  Y = wX + b\n",
    "\n",
    "  Y --> Dependent Variable<br>\n",
    "  X --> Independent Variable<br>\n",
    "  w --> weight<br>\n",
    "  b --> bias<br><br>\n",
    "\n",
    "\n",
    "<b>Gradient Descent:</b>\n",
    "\n",
    "  We try to minimize value of the cost function.<br><br>\n",
    "  The equation for cost with one variable is:<br>\n",
    "    $$J(w,b) = \\frac{1}{2m} \\sum\\limits_{i = 0}^{m-1} (f_{w,b}(x^{(i)}) - y^{(i)})^2 \\tag{1}$$ \n",
    "  \n",
    "  where \n",
    "    $$f_{w,b}(x^{(i)}) = wx^{(i)} + b \\tag{2}$$\n",
    "\n",
    "    \n",
    "  - $f_{w,b}(x^{(i)})$ is our prediction for example $i$ using parameters $w,b$.  \n",
    "  - $(f_{w,b}(x^{(i)}) -y^{(i)})^2$ is the squared difference between the target value and the prediction.   \n",
    "  - These differences are summed over all the $m$ examples and divided by `2m` to produce the cost, $J(w,b)$.  \n",
    "  - `m` can also be used instead of `2m`. The cost fucntion remains interchangeable with both values since the point of minimum remains unchanged.\n",
    "\n",
    "  \n",
    "  gradient descent* is described as:\n",
    "\n",
    "  $$\\begin{align*} \\text{repeat}&\\text{ until convergence:} \\; \\lbrace \\newline\n",
    "  \\;  w &= w -  \\alpha \\frac{\\partial J(w,b)}{\\partial w} \\tag{3}  \\; \\newline \n",
    "  b &= b -  \\alpha \\frac{\\partial J(w,b)}{\\partial b}  \\newline \\rbrace\n",
    "  \\end{align*}$$\n",
    "  where, parameters $w$, $b$ are updated simultaneously.  \n",
    "  The gradient is defined as:\n",
    "  $$\n",
    "  \\begin{align}\n",
    "  \\frac{\\partial J(w,b)}{\\partial w}  &= \\frac{1}{m} \\sum\\limits_{i = 0}^{m-1} (f_{w,b}(x^{(i)}) - y^{(i)})x^{(i)} \\tag{4}\\\\\n",
    "    \\frac{\\partial J(w,b)}{\\partial b}  &= \\frac{1}{m} \\sum\\limits_{i = 0}^{m-1} (f_{w,b}(x^{(i)}) - y^{(i)}) \\tag{5}\\\\\n",
    "  \\end{align}\n",
    "  $$\n",
    "\n",
    "  Here *simultaniously* means that you calculate the partial derivatives for all the parameters before updating any of the parameters.<br><br>\n",
    "\n",
    "<b> Learning Rate:</b><br><br>\n",
    "  <b>$\\alpha$</b> can be used to vary the rate of change of w or b. Giving a value too large can cause the gradient descent to never converge. It must me chosen very less in the order of ~ 0.001 and varied based on success rate.\n"
   ]
  },
  {
   "cell_type": "code",
   "execution_count": 2,
   "metadata": {},
   "outputs": [],
   "source": [
    "import numpy as np\n",
    "import math, copy"
   ]
  },
  {
   "cell_type": "markdown",
   "metadata": {},
   "source": [
    "<b>Linear Regression</b>"
   ]
  },
  {
   "cell_type": "code",
   "execution_count": 5,
   "metadata": {},
   "outputs": [],
   "source": [
    "from model_functions import Linear_Regression"
   ]
  },
  {
   "cell_type": "markdown",
   "metadata": {},
   "source": [
    "<b>Plotting</b>"
   ]
  },
  {
   "cell_type": "code",
   "execution_count": null,
   "metadata": {},
   "outputs": [],
   "source": []
  },
  {
   "cell_type": "markdown",
   "metadata": {},
   "source": [
    "<b>Training the Model</b>"
   ]
  },
  {
   "cell_type": "code",
   "execution_count": null,
   "metadata": {},
   "outputs": [],
   "source": [
    "new_model = Linear_Regression(0.001, 1000)"
   ]
  }
 ],
 "metadata": {
  "kernelspec": {
   "display_name": "Python 3",
   "language": "python",
   "name": "python3"
  },
  "language_info": {
   "codemirror_mode": {
    "name": "ipython",
    "version": 3
   },
   "file_extension": ".py",
   "mimetype": "text/x-python",
   "name": "python",
   "nbconvert_exporter": "python",
   "pygments_lexer": "ipython3",
   "version": "3.11.4"
  }
 },
 "nbformat": 4,
 "nbformat_minor": 2
}
