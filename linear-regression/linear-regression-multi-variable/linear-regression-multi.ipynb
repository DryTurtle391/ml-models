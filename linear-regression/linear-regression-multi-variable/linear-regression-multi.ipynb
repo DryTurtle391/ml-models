{
 "cells": [
  {
   "cell_type": "code",
   "execution_count": 1,
   "metadata": {},
   "outputs": [],
   "source": [
    "import numpy as np\n",
    "import pandas as pd"
   ]
  },
  {
   "cell_type": "code",
   "execution_count": 22,
   "metadata": {},
   "outputs": [
    {
     "data": {
      "text/plain": [
       "(99, 4)"
      ]
     },
     "execution_count": 22,
     "metadata": {},
     "output_type": "execute_result"
    }
   ],
   "source": [
    "data = np.loadtxt(\"./sample_data/houses.txt\", delimiter=',', skiprows=1)\n",
    "X_train = data[:,:4]\n",
    "Y_train= data[:,4]\n",
    "w_in = np.zeros(X_train.shape[1])\n",
    "b_in = 6\n",
    "X_train.shape"
   ]
  },
  {
   "cell_type": "code",
   "execution_count": 23,
   "metadata": {},
   "outputs": [],
   "source": [
    "from model_functions_multi import Linear_Regression_Multi"
   ]
  },
  {
   "cell_type": "code",
   "execution_count": 24,
   "metadata": {},
   "outputs": [
    {
     "data": {
      "text/plain": [
       "(array([ 0.26694452, -0.0098128 , -0.03816066, -0.75328117]),\n",
       " np.float64(6.033829200596119))"
      ]
     },
     "execution_count": 24,
     "metadata": {},
     "output_type": "execute_result"
    }
   ],
   "source": [
    "model = Linear_Regression_Multi(alpha = 5.0e-7, num_iters=10000)\n",
    "\n",
    "model.fit(X_train, Y_train, w_in, b_in)\n",
    "cost = model.compute_cost(w_in, b_in)\n",
    "dj_dw, dj_db = model.compute_gradient(w_in, b_in)\n",
    "w, b, J_hist,p_hist = model.gradient_descent(w_in, b_in)\n",
    "w, b"
   ]
  },
  {
   "cell_type": "code",
   "execution_count": null,
   "metadata": {},
   "outputs": [],
   "source": []
  },
  {
   "cell_type": "code",
   "execution_count": null,
   "metadata": {},
   "outputs": [],
   "source": []
  }
 ],
 "metadata": {
  "kernelspec": {
   "display_name": "Python 3",
   "language": "python",
   "name": "python3"
  },
  "language_info": {
   "codemirror_mode": {
    "name": "ipython",
    "version": 3
   },
   "file_extension": ".py",
   "mimetype": "text/x-python",
   "name": "python",
   "nbconvert_exporter": "python",
   "pygments_lexer": "ipython3",
   "version": "3.11.4"
  }
 },
 "nbformat": 4,
 "nbformat_minor": 2
}
