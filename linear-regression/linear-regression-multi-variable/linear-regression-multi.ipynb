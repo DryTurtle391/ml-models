{
 "cells": [
  {
   "cell_type": "code",
   "execution_count": 1,
   "metadata": {},
   "outputs": [],
   "source": [
    "import numpy as np\n",
    "import pandas as pd"
   ]
  },
  {
   "cell_type": "code",
   "execution_count": 13,
   "metadata": {},
   "outputs": [
    {
     "data": {
      "text/plain": [
       "(99, 4)"
      ]
     },
     "execution_count": 13,
     "metadata": {},
     "output_type": "execute_result"
    }
   ],
   "source": [
    "data = np.loadtxt(\"./sample_data/houses.txt\", delimiter=',', skiprows=1)\n",
    "X_train = data[:,:4]\n",
    "Y_train= data[:,4]\n",
    "w_in = np.zeros(X_train.shape[1])\n",
    "b_in = 6\n",
    "X_train.shape"
   ]
  },
  {
   "cell_type": "code",
   "execution_count": 14,
   "metadata": {},
   "outputs": [],
   "source": [
    "from model_functions_multi import Linear_Regression_Multi"
   ]
  },
  {
   "cell_type": "code",
   "execution_count": 15,
   "metadata": {},
   "outputs": [
    {
     "data": {
      "text/plain": [
       "[[array([5.43273382e+01, 9.89699273e-02, 5.10208707e-02, 1.21724420e+00]),\n",
       "  np.float64(6.035715608080808)],\n",
       " [array([2.67861380e+235, 4.91568706e+232, 2.55753776e+232, 6.34735907e+233]),\n",
       "  np.float64(1.741958526230594e+232)],\n",
       " [array([nan, nan, nan, nan]), np.float64(nan)],\n",
       " [array([nan, nan, nan, nan]), np.float64(nan)],\n",
       " [array([nan, nan, nan, nan]), np.float64(nan)],\n",
       " [array([nan, nan, nan, nan]), np.float64(nan)],\n",
       " [array([nan, nan, nan, nan]), np.float64(nan)],\n",
       " [array([nan, nan, nan, nan]), np.float64(nan)],\n",
       " [array([nan, nan, nan, nan]), np.float64(nan)],\n",
       " [array([nan, nan, nan, nan]), np.float64(nan)],\n",
       " [array([nan, nan, nan, nan]), np.float64(nan)],\n",
       " [array([nan, nan, nan, nan]), np.float64(nan)],\n",
       " [array([nan, nan, nan, nan]), np.float64(nan)],\n",
       " [array([nan, nan, nan, nan]), np.float64(nan)],\n",
       " [array([nan, nan, nan, nan]), np.float64(nan)],\n",
       " [array([nan, nan, nan, nan]), np.float64(nan)],\n",
       " [array([nan, nan, nan, nan]), np.float64(nan)],\n",
       " [array([nan, nan, nan, nan]), np.float64(nan)],\n",
       " [array([nan, nan, nan, nan]), np.float64(nan)],\n",
       " [array([nan, nan, nan, nan]), np.float64(nan)],\n",
       " [array([nan, nan, nan, nan]), np.float64(nan)],\n",
       " [array([nan, nan, nan, nan]), np.float64(nan)],\n",
       " [array([nan, nan, nan, nan]), np.float64(nan)],\n",
       " [array([nan, nan, nan, nan]), np.float64(nan)],\n",
       " [array([nan, nan, nan, nan]), np.float64(nan)],\n",
       " [array([nan, nan, nan, nan]), np.float64(nan)],\n",
       " [array([nan, nan, nan, nan]), np.float64(nan)],\n",
       " [array([nan, nan, nan, nan]), np.float64(nan)],\n",
       " [array([nan, nan, nan, nan]), np.float64(nan)],\n",
       " [array([nan, nan, nan, nan]), np.float64(nan)],\n",
       " [array([nan, nan, nan, nan]), np.float64(nan)],\n",
       " [array([nan, nan, nan, nan]), np.float64(nan)],\n",
       " [array([nan, nan, nan, nan]), np.float64(nan)],\n",
       " [array([nan, nan, nan, nan]), np.float64(nan)],\n",
       " [array([nan, nan, nan, nan]), np.float64(nan)],\n",
       " [array([nan, nan, nan, nan]), np.float64(nan)],\n",
       " [array([nan, nan, nan, nan]), np.float64(nan)],\n",
       " [array([nan, nan, nan, nan]), np.float64(nan)],\n",
       " [array([nan, nan, nan, nan]), np.float64(nan)],\n",
       " [array([nan, nan, nan, nan]), np.float64(nan)],\n",
       " [array([nan, nan, nan, nan]), np.float64(nan)],\n",
       " [array([nan, nan, nan, nan]), np.float64(nan)],\n",
       " [array([nan, nan, nan, nan]), np.float64(nan)],\n",
       " [array([nan, nan, nan, nan]), np.float64(nan)],\n",
       " [array([nan, nan, nan, nan]), np.float64(nan)],\n",
       " [array([nan, nan, nan, nan]), np.float64(nan)],\n",
       " [array([nan, nan, nan, nan]), np.float64(nan)],\n",
       " [array([nan, nan, nan, nan]), np.float64(nan)],\n",
       " [array([nan, nan, nan, nan]), np.float64(nan)],\n",
       " [array([nan, nan, nan, nan]), np.float64(nan)],\n",
       " [array([nan, nan, nan, nan]), np.float64(nan)],\n",
       " [array([nan, nan, nan, nan]), np.float64(nan)],\n",
       " [array([nan, nan, nan, nan]), np.float64(nan)],\n",
       " [array([nan, nan, nan, nan]), np.float64(nan)],\n",
       " [array([nan, nan, nan, nan]), np.float64(nan)],\n",
       " [array([nan, nan, nan, nan]), np.float64(nan)],\n",
       " [array([nan, nan, nan, nan]), np.float64(nan)],\n",
       " [array([nan, nan, nan, nan]), np.float64(nan)],\n",
       " [array([nan, nan, nan, nan]), np.float64(nan)],\n",
       " [array([nan, nan, nan, nan]), np.float64(nan)],\n",
       " [array([nan, nan, nan, nan]), np.float64(nan)],\n",
       " [array([nan, nan, nan, nan]), np.float64(nan)],\n",
       " [array([nan, nan, nan, nan]), np.float64(nan)],\n",
       " [array([nan, nan, nan, nan]), np.float64(nan)],\n",
       " [array([nan, nan, nan, nan]), np.float64(nan)],\n",
       " [array([nan, nan, nan, nan]), np.float64(nan)],\n",
       " [array([nan, nan, nan, nan]), np.float64(nan)],\n",
       " [array([nan, nan, nan, nan]), np.float64(nan)],\n",
       " [array([nan, nan, nan, nan]), np.float64(nan)],\n",
       " [array([nan, nan, nan, nan]), np.float64(nan)],\n",
       " [array([nan, nan, nan, nan]), np.float64(nan)],\n",
       " [array([nan, nan, nan, nan]), np.float64(nan)],\n",
       " [array([nan, nan, nan, nan]), np.float64(nan)],\n",
       " [array([nan, nan, nan, nan]), np.float64(nan)],\n",
       " [array([nan, nan, nan, nan]), np.float64(nan)],\n",
       " [array([nan, nan, nan, nan]), np.float64(nan)],\n",
       " [array([nan, nan, nan, nan]), np.float64(nan)],\n",
       " [array([nan, nan, nan, nan]), np.float64(nan)],\n",
       " [array([nan, nan, nan, nan]), np.float64(nan)],\n",
       " [array([nan, nan, nan, nan]), np.float64(nan)],\n",
       " [array([nan, nan, nan, nan]), np.float64(nan)],\n",
       " [array([nan, nan, nan, nan]), np.float64(nan)],\n",
       " [array([nan, nan, nan, nan]), np.float64(nan)],\n",
       " [array([nan, nan, nan, nan]), np.float64(nan)],\n",
       " [array([nan, nan, nan, nan]), np.float64(nan)],\n",
       " [array([nan, nan, nan, nan]), np.float64(nan)],\n",
       " [array([nan, nan, nan, nan]), np.float64(nan)],\n",
       " [array([nan, nan, nan, nan]), np.float64(nan)],\n",
       " [array([nan, nan, nan, nan]), np.float64(nan)],\n",
       " [array([nan, nan, nan, nan]), np.float64(nan)],\n",
       " [array([nan, nan, nan, nan]), np.float64(nan)],\n",
       " [array([nan, nan, nan, nan]), np.float64(nan)],\n",
       " [array([nan, nan, nan, nan]), np.float64(nan)],\n",
       " [array([nan, nan, nan, nan]), np.float64(nan)],\n",
       " [array([nan, nan, nan, nan]), np.float64(nan)],\n",
       " [array([nan, nan, nan, nan]), np.float64(nan)],\n",
       " [array([nan, nan, nan, nan]), np.float64(nan)],\n",
       " [array([nan, nan, nan, nan]), np.float64(nan)],\n",
       " [array([nan, nan, nan, nan]), np.float64(nan)],\n",
       " [array([nan, nan, nan, nan]), np.float64(nan)]]"
      ]
     },
     "execution_count": 15,
     "metadata": {},
     "output_type": "execute_result"
    }
   ],
   "source": [
    "model = Linear_Regression_Multi(alpha = 0.0001, num_iters=10000)\n",
    "\n",
    "model.fit(X_train, Y_train, w_in, b_in)\n",
    "cost = model.compute_cost(w_in, b_in)\n",
    "dj_dw, dj_db = model.compute_gradient(w_in, b_in)\n",
    "_, _, J_hist,p_hist = model.gradient_descent(w_in, b_in)"
   ]
  },
  {
   "cell_type": "code",
   "execution_count": null,
   "metadata": {},
   "outputs": [],
   "source": []
  },
  {
   "cell_type": "code",
   "execution_count": null,
   "metadata": {},
   "outputs": [],
   "source": []
  }
 ],
 "metadata": {
  "kernelspec": {
   "display_name": "Python 3",
   "language": "python",
   "name": "python3"
  },
  "language_info": {
   "codemirror_mode": {
    "name": "ipython",
    "version": 3
   },
   "file_extension": ".py",
   "mimetype": "text/x-python",
   "name": "python",
   "nbconvert_exporter": "python",
   "pygments_lexer": "ipython3",
   "version": "3.11.4"
  }
 },
 "nbformat": 4,
 "nbformat_minor": 2
}
