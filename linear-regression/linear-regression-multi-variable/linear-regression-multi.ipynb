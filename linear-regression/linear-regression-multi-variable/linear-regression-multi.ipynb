{
 "cells": [
  {
   "cell_type": "code",
   "execution_count": 25,
   "metadata": {},
   "outputs": [],
   "source": [
    "import numpy as np\n",
    "import pandas as pd"
   ]
  },
  {
   "cell_type": "code",
   "execution_count": 26,
   "metadata": {},
   "outputs": [
    {
     "data": {
      "text/plain": [
       "(99, 4)"
      ]
     },
     "execution_count": 26,
     "metadata": {},
     "output_type": "execute_result"
    }
   ],
   "source": [
    "data = np.loadtxt(\"./sample_data/houses.txt\", delimiter=',', skiprows=1)\n",
    "X_train = data[:,:4]\n",
    "Y_train= data[:,4]\n",
    "w_in = np.zeros(X_train.shape[1])\n",
    "b_in = 6\n",
    "X_train.shape"
   ]
  },
  {
   "cell_type": "code",
   "execution_count": 27,
   "metadata": {},
   "outputs": [],
   "source": [
    "from model_functions_multi import Linear_Regression_Multi"
   ]
  },
  {
   "cell_type": "code",
   "execution_count": 28,
   "metadata": {},
   "outputs": [
    {
     "data": {
      "text/plain": [
       "(array([ 0.26694452, -0.0098128 , -0.03816066, -0.75328117]),\n",
       " np.float64(6.033829200596119),\n",
       " [np.float64(20765507.113194637),\n",
       "  np.float64(15017712.755116884),\n",
       "  np.float64(14807751.816535683),\n",
       "  np.float64(14616122.80850923),\n",
       "  np.float64(14441224.728225883),\n",
       "  np.float64(14281596.395030724),\n",
       "  np.float64(14135904.239181837),\n",
       "  np.float64(14002931.15706471),\n",
       "  np.float64(13881566.339726573),\n",
       "  np.float64(13770795.989726633),\n",
       "  np.float64(13669694.848722007),\n",
       "  np.float64(13577418.464984307),\n",
       "  np.float64(13493196.136225803),\n",
       "  np.float64(13416324.46875766),\n",
       "  np.float64(13346161.499153296),\n",
       "  np.float64(13282121.329291066),\n",
       "  np.float64(13223669.229940698),\n",
       "  np.float64(13170317.17197371),\n",
       "  np.float64(13121619.747851504),\n",
       "  np.float64(13077170.449306736),\n",
       "  np.float64(13036598.270110093),\n",
       "  np.float64(12999564.605531333),\n",
       "  np.float64(12965760.42258319),\n",
       "  np.float64(12934903.677399494),\n",
       "  np.float64(12906736.958164312),\n",
       "  np.float64(12881025.333893698),\n",
       "  np.float64(12857554.391092295),\n",
       "  np.float64(12836128.441876622),\n",
       "  np.float64(12816568.888590518),\n",
       "  np.float64(12798712.731245266),\n",
       "  np.float64(12782411.20531118),\n",
       "  np.float64(12767528.538476503),\n",
       "  np.float64(12753940.815983549),\n",
       "  np.float64(12741534.945059821),\n",
       "  np.float64(12730207.709789483),\n",
       "  np.float64(12719864.908526985),\n",
       "  np.float64(12710420.56664361),\n",
       "  np.float64(12701796.218028488),\n",
       "  np.float64(12693920.2493387),\n",
       "  np.float64(12686727.30151892),\n",
       "  np.float64(12680157.723588837),\n",
       "  np.float64(12674157.07413346),\n",
       "  np.float64(12668675.666330293),\n",
       "  np.float64(12663668.15271136),\n",
       "  np.float64(12659093.146189446),\n",
       "  np.float64(12654912.874181792),\n",
       "  np.float64(12651092.862940552),\n",
       "  np.float64(12647601.64945199),\n",
       "  np.float64(12644410.518496737),\n",
       "  np.float64(12641493.26267349),\n",
       "  np.float64(12638825.963381084),\n",
       "  np.float64(12636386.79092811),\n",
       "  np.float64(12634155.82209982),\n",
       "  np.float64(12632114.873657757),\n",
       "  np.float64(12630247.350380333),\n",
       "  np.float64(12628538.106374979),\n",
       "  np.float64(12626973.318502126),\n",
       "  np.float64(12625540.37085381),\n",
       "  np.float64(12624227.749321176),\n",
       "  np.float64(12623024.94536984),\n",
       "  np.float64(12621922.368218884),\n",
       "  np.float64(12620911.264689755),\n",
       "  np.float64(12619983.646054931),\n",
       "  np.float64(12619132.221275318),\n",
       "  np.float64(12618350.336068243),\n",
       "  np.float64(12617631.917296864),\n",
       "  np.float64(12616971.422216376),\n",
       "  np.float64(12616363.792152643),\n",
       "  np.float64(12615804.410226345),\n",
       "  np.float64(12615289.06276919),\n",
       "  np.float64(12614813.904109897),\n",
       "  np.float64(12614375.424435427),\n",
       "  np.float64(12613970.420459159),\n",
       "  np.float64(12613595.968650661),\n",
       "  np.float64(12613249.400803411),\n",
       "  np.float64(12612928.281736389),\n",
       "  np.float64(12612630.388942853),\n",
       "  np.float64(12612353.694016779),\n",
       "  np.float64(12612096.345701154),\n",
       "  np.float64(12611856.654416868),\n",
       "  np.float64(12611633.078142662),\n",
       "  np.float64(12611424.20952835),\n",
       "  np.float64(12611228.764133453),\n",
       "  np.float64(12611045.569692904),\n",
       "  np.float64(12610873.556320418),\n",
       "  np.float64(12610711.747567212),\n",
       "  np.float64(12610559.252261866),\n",
       "  np.float64(12610415.257062566),\n",
       "  np.float64(12610279.019659994),\n",
       "  np.float64(12610149.86257376),\n",
       "  np.float64(12610027.167490602),\n",
       "  np.float64(12609910.370097162),\n",
       "  np.float64(12609798.955363806),\n",
       "  np.float64(12609692.453240583),\n",
       "  np.float64(12609590.434728956),\n",
       "  np.float64(12609492.508296577),\n",
       "  np.float64(12609398.316605227),\n",
       "  np.float64(12609307.533524496),\n",
       "  np.float64(12609219.861406306),\n",
       "  np.float64(12609135.028597383)])"
      ]
     },
     "execution_count": 28,
     "metadata": {},
     "output_type": "execute_result"
    }
   ],
   "source": [
    "model = Linear_Regression_Multi(alpha = 5.0e-7, num_iters=10000)\n",
    "\n",
    "model.fit(X_train, Y_train, w_in, b_in)\n",
    "cost = model.compute_cost(w_in, b_in)\n",
    "dj_dw, dj_db = model.compute_gradient(w_in, b_in)\n",
    "w, b, J_hist,p_hist = model.gradient_descent(w_in, b_in)\n",
    "w, b, J_hist"
   ]
  },
  {
   "cell_type": "code",
   "execution_count": null,
   "metadata": {},
   "outputs": [],
   "source": []
  },
  {
   "cell_type": "code",
   "execution_count": null,
   "metadata": {},
   "outputs": [],
   "source": []
  }
 ],
 "metadata": {
  "kernelspec": {
   "display_name": "Python 3",
   "language": "python",
   "name": "python3"
  },
  "language_info": {
   "codemirror_mode": {
    "name": "ipython",
    "version": 3
   },
   "file_extension": ".py",
   "mimetype": "text/x-python",
   "name": "python",
   "nbconvert_exporter": "python",
   "pygments_lexer": "ipython3",
   "version": "3.11.4"
  }
 },
 "nbformat": 4,
 "nbformat_minor": 2
}
